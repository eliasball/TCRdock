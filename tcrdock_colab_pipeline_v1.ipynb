{
  "cells": [
    {
      "cell_type": "markdown",
      "metadata": {
        "id": "view-in-github",
        "colab_type": "text"
      },
      "source": [
        "<a href=\"https://colab.research.google.com/github/phbradley/TCRdock/blob/main/tcrdock_colab_pipeline_v1.ipynb\" target=\"_parent\"><img src=\"https://colab.research.google.com/assets/colab-badge.svg\" alt=\"Open In Colab\"/></a>"
      ]
    },
    {
      "cell_type": "markdown",
      "metadata": {
        "id": "pc5-mbsX9PZC"
      },
      "source": [
        "# TCRdock Colab\n",
        "\n",
        "This colab notebook is based on the AlphaFold colab notebook https://colab.research.google.com/github/deepmind/alphafold/blob/main/notebooks/AlphaFold.ipynb -- many thanks to the AlphaFold developers for creating and sharing their code and related content.\n",
        "\n"
      ]
    },
    {
      "cell_type": "markdown",
      "metadata": {
        "id": "uC1dKAwk2eyl"
      },
      "source": [
        "## Setup\n",
        "\n",
        "Start by running the 4 cells below to set up TCRdock and all required software."
      ]
    },
    {
      "cell_type": "code",
      "execution_count": null,
      "metadata": {
        "id": "woIxeCPygt7K"
      },
      "outputs": [],
      "source": [
        "# Set environment variables before running any other code.\n",
        "import os\n",
        "os.environ['TF_FORCE_UNIFIED_MEMORY'] = '1'\n",
        "os.environ['XLA_PYTHON_CLIENT_MEM_FRACTION'] = '4.0'\n",
        "\n",
        "\n",
        "from IPython.utils import io\n",
        "import os\n",
        "import subprocess\n",
        "import tqdm.notebook\n",
        "\n",
        "TQDM_BAR_FORMAT = '{l_bar}{bar}| {n_fmt}/{total_fmt} [elapsed: {elapsed} remaining: {remaining}]'\n",
        "\n",
        "try:\n",
        "  with tqdm.notebook.tqdm(total=100, bar_format=TQDM_BAR_FORMAT) as pbar:\n",
        "    with io.capture_output() as captured:\n",
        "      # Uninstall default Colab version of TF.\n",
        "      %shell pip uninstall -y tensorflow\n",
        "      pbar.update(6)\n",
        "\n",
        "      # Install py3dmol.\n",
        "      %shell pip install py3dmol\n",
        "      pbar.update(2)\n",
        "\n",
        "      # Install OpenMM and pdbfixer.\n",
        "      %shell rm -rf /opt/conda\n",
        "      %shell wget -q -P /tmp \\\n",
        "        https://repo.anaconda.com/miniconda/Miniconda3-latest-Linux-x86_64.sh \\\n",
        "          && bash /tmp/Miniconda3-latest-Linux-x86_64.sh -b -p /opt/conda \\\n",
        "          && rm /tmp/Miniconda3-latest-Linux-x86_64.sh\n",
        "      pbar.update(12)\n",
        "\n",
        "      PATH=%env PATH\n",
        "      %env PATH=/opt/conda/bin:{PATH}\n",
        "\n",
        "      # phil changing to python 3.8 from 3.10 for compat with local versions...\n",
        "      %shell conda install -qy conda==4.13.0 \\\n",
        "          && conda install -qy -c conda-forge \\\n",
        "            python=3.8\n",
        "      pbar.update(80)\n",
        "\n",
        "except subprocess.CalledProcessError:\n",
        "  print(captured)\n",
        "  raise\n",
        "\n",
        "#print(captured)\n"
      ]
    },
    {
      "cell_type": "code",
      "execution_count": null,
      "metadata": {
        "id": "VzJ5iMjTtoZw"
      },
      "outputs": [],
      "source": [
        "GIT_REPO = 'https://github.com/phbradley/TCRdock'\n",
        "\n",
        "PARAMS_URLS = ['https://www.dropbox.com/s/e3uz9mwxkmmv35z/params_model_2_ptm.npz',\n",
        "               'https://www.dropbox.com/s/jph8v1mfni1q4y8/tcrpmhc_run4_af_mhc_params_891.pkl']\n",
        "\n",
        "PARAMS_DIR = './alphafold_params/params'\n",
        "\n",
        "try:\n",
        "  with tqdm.notebook.tqdm(total=100, bar_format=TQDM_BAR_FORMAT) as pbar:\n",
        "    with io.capture_output() as captured:\n",
        "      %shell rm -rf TCRdock\n",
        "      %shell git clone --branch main {GIT_REPO} TCRdock\n",
        "      pbar.update(20)\n",
        "      # Install the required versions of all dependencies.\n",
        "      %shell pip3 install -r ./TCRdock/requirements_colab_python38.txt\n",
        "      pbar.update(60)\n",
        "\n",
        "      # Load parameters\n",
        "      %shell mkdir --parents \"{PARAMS_DIR}\"\n",
        "      for URL in PARAMS_URLS:\n",
        "        PARAMS_PATH = os.path.join(PARAMS_DIR, os.path.basename(URL))\n",
        "        %shell wget -O \"{PARAMS_PATH}\" \"{URL}\"\n",
        "      pbar.update(20)\n",
        "\n",
        "except subprocess.CalledProcessError:\n",
        "  print(captured)\n",
        "  raise\n",
        "\n",
        "#print(captured)\n",
        "\n",
        "import jax\n",
        "if jax.local_devices()[0].platform == 'tpu':\n",
        "  raise RuntimeError('Colab TPU runtime not supported. Change it to GPU via Runtime -> Change Runtime Type -> Hardware accelerator -> GPU.')\n",
        "elif jax.local_devices()[0].platform == 'cpu':\n",
        "  raise RuntimeError('Colab CPU runtime not supported. Change it to GPU via Runtime -> Change Runtime Type -> Hardware accelerator -> GPU.')\n",
        "else:\n",
        "  print(f'Running with {jax.local_devices()[0].device_kind} GPU')\n",
        "\n",
        "# Make sure everything we need is on the path.\n",
        "import sys\n",
        "sys.path.append('/opt/conda/lib/python3.8/site-packages')\n",
        "\n",
        "\n"
      ]
    },
    {
      "cell_type": "code",
      "source": [
        "cd TCRdock/"
      ],
      "metadata": {
        "id": "lM9cAcKxiklC"
      },
      "execution_count": null,
      "outputs": []
    },
    {
      "cell_type": "code",
      "source": [
        "%shell python download_blast.py"
      ],
      "metadata": {
        "id": "0DdXQiT9GCvt"
      },
      "execution_count": null,
      "outputs": []
    },
    {
      "cell_type": "markdown",
      "source": [
        "## Enter info on the modeling targets\n",
        "\n",
        "You can use the form in the next block, which will create a file `user_targets.tsv` with the supplied information to prepare for modeling a single target.\n",
        "\n",
        "Or, to run multiple targets, you could upload a TSV-formatted file (ie, tab-separated-values) to this running colab session using the upload button in the upper left corner. If you save it in `/content/TCRdock/` and give it the filename `user_targets.tsv` then you can skip the next block with the form and go directly to the `setup_for_alphafold.py` command. Or call the file whatever you want and modify the `setup_for_alphafold.py` command to provide the location of your new file with the  `--targets_tsvfile` flag."
      ],
      "metadata": {
        "id": "wV5bLjyDzrGJ"
      }
    },
    {
      "cell_type": "code",
      "source": [
        "#@title Enter the information on the TCR:pMHC complex to be modeled. When you are finished, press the play button (triangle inside circle) on the left.\n",
        "\n",
        "#@markdown If there are any problems with the data, like unrecognized V/J gene names, there will be errors when the next cell is run.\n",
        "\n",
        "\n",
        "#consulting here;\n",
        "# https://colab.research.google.com/notebooks/forms.ipynb\n",
        "import pandas as pd\n",
        "\n",
        "organism = 'human' #@param [\"human\", \"mouse\"]\n",
        "\n",
        "mhc_class = 1 #@param [1,2] {type:\"raw\"}\n",
        "\n",
        "mhc = 'A*02:01'  #@param {type:\"string\"}\n",
        "\n",
        "#@markdown For class II, the peptide should be 11 amino acids long (9 residue core plus 1 residue on either side)\n",
        "peptide = 'GILGFVFTL' #@param {type:\"string\"}\n",
        "\n",
        "#@markdown The gene names should include allele information (ie, they should end in \"*01\" or something like that)\n",
        "va = 'TRAV27*01' #@param {type:\"string\"}\n",
        "ja ='TRAJ42*01' #@param {type:\"string\"}\n",
        "#@markdown The CDR3 sequence starts with the conserved C and ends with the F/Y/W that comes before the GXG in the J region.\n",
        "#@markdown The CDR3 sequences should be at least 6 residues long.\n",
        "cdr3a = 'CAGAGSQGNLIF' #@param {type:\"string\"}\n",
        "vb = 'TRBV19*01' #@param {type:\"string\"}\n",
        "jb = 'TRBJ2-7*01' #@param {type:\"string\"}\n",
        "cdr3b = 'CASSSRSSYEQYF' #@param {type:\"string\"}\n",
        "\n",
        "targets = pd.DataFrame([\n",
        "    dict(organism=organism, mhc_class = mhc_class, mhc=mhc, peptide=peptide,\n",
        "         va=va, ja=ja, cdr3a=cdr3a, vb=vb, jb=jb, cdr3b=cdr3b,\n",
        "    )])\n",
        "\n",
        "targets_filename = 'user_targets.tsv'\n",
        "targets.to_csv(targets_filename, sep='\\t', index=False)\n",
        "print('made:', targets_filename)\n",
        "\n",
        "\n"
      ],
      "metadata": {
        "cellView": "form",
        "id": "js1r8Z9FfpXR"
      },
      "execution_count": null,
      "outputs": []
    },
    {
      "cell_type": "markdown",
      "source": [
        "## Generate the inputs for AlphaFold modeling"
      ],
      "metadata": {
        "id": "xTWidRoj0Cev"
      }
    },
    {
      "cell_type": "code",
      "source": [
        "%shell python setup_for_alphafold.py --targets_tsvfile user_targets.tsv --output_dir user_output --new_docking\n"
      ],
      "metadata": {
        "id": "YtVPcQJaHHpS"
      },
      "execution_count": null,
      "outputs": []
    },
    {
      "cell_type": "markdown",
      "source": [
        "# Run AlphaFold with the generated inputs\n",
        "\n",
        "This next python command will build TCRdock models for the targets with information listed in the file `user_output/targets.tsv` . The first target will take longer because the neural network model is being compiled. After that, remaining targets will be much (~5x) faster."
      ],
      "metadata": {
        "id": "hRkuStBzr_Ma"
      }
    },
    {
      "cell_type": "code",
      "source": [
        "%shell python run_prediction.py --verbose \\\n",
        "    --targets user_output/targets.tsv \\\n",
        "    --outfile_prefix user_output \\\n",
        "    --model_names model_2_ptm_ft4 \\\n",
        "    --data_dir /content/alphafold_params/ \\\n",
        "    --model_params_files /content/alphafold_params/params/tcrpmhc_run4_af_mhc_params_891.pkl\n",
        "\n",
        "\n",
        "# this command computes the PAE between pMHC and TCR\n",
        "%shell python add_pmhc_tcr_pae_to_tsvfile.py --infile user_output_final.tsv \\\n",
        "    --outfile user_output_w_pae.tsv\n"
      ],
      "metadata": {
        "id": "6KryF90AHHmK"
      },
      "execution_count": null,
      "outputs": []
    },
    {
      "cell_type": "markdown",
      "source": [
        "## Look at the TCRdock output\n",
        "\n",
        "The next cell should generate as output a table with the pMHC-TCR PAE values (in the `pmhc_tcr_pae` column). Models with PAE values less than 6.5 or 7 are higher confidence; models with PAE values greater than 7.5 or 8 are low confidence."
      ],
      "metadata": {
        "id": "T7pFCnzQgHNw"
      }
    },
    {
      "cell_type": "code",
      "source": [
        "# look at the output\n",
        "import pandas as pd\n",
        "results = pd.read_table('user_output_w_pae.tsv')\n",
        "\n",
        "cols = 'pmhc_tcr_pae mhc peptide va cdr3a vb cdr3b model_pdbfile'.split()\n",
        "results[cols]\n"
      ],
      "metadata": {
        "id": "ayTo1ryocIoU"
      },
      "execution_count": null,
      "outputs": []
    },
    {
      "cell_type": "code",
      "source": [
        "# show the output PDB files\n",
        "!ls *.pdb"
      ],
      "metadata": {
        "id": "nvQI8vq6ll3g"
      },
      "execution_count": null,
      "outputs": []
    },
    {
      "cell_type": "code",
      "source": [
        "from google.colab import files\n",
        "from matplotlib import gridspec\n",
        "import matplotlib.pyplot as plt\n",
        "import numpy as np\n",
        "import py3Dmol\n",
        "from glob import glob\n",
        "\n",
        "from IPython import display\n",
        "from ipywidgets import GridspecLayout\n",
        "from ipywidgets import Output\n",
        "\n",
        "# the name of the file we want to visualize:\n",
        "files = glob('user_output_T00000_*_model_2_ptm_ft4.pdb')\n",
        "fname = files[0]\n",
        "print('loading:', fname)\n",
        "\n",
        "with open(fname,'r') as f:\n",
        "    to_visualize_pdb = f.read()\n",
        "\n",
        "\n",
        "show_sidechains = True #False\n",
        "\n",
        "view = py3Dmol.view(width=800, height=600)\n",
        "view.addModelsAsFrames(to_visualize_pdb)\n",
        "style = {'cartoon': {}} #{'colorscheme': {'prop': 'b', 'map': color_map}}}\n",
        "if show_sidechains:\n",
        "  style['stick'] = {}\n",
        "view.setStyle({'model': -1}, style)\n",
        "view.zoomTo()\n",
        "\n",
        "grid = GridspecLayout(1, 2)\n",
        "out = Output()\n",
        "with out:\n",
        "  view.show()\n",
        "grid[0, 0] = out\n",
        "\n",
        "out = Output()\n",
        "#with out:\n",
        "#  plot_plddt_legend().show()\n",
        "grid[0, 1] = out\n",
        "\n",
        "display.display(grid)\n"
      ],
      "metadata": {
        "id": "GazB6j7hk-Ik"
      },
      "execution_count": null,
      "outputs": []
    },
    {
      "cell_type": "markdown",
      "source": [
        "# Some random potentially useful commands for debugging."
      ],
      "metadata": {
        "id": "0GizhfeQy3y1"
      }
    },
    {
      "cell_type": "code",
      "source": [
        "# for figuring out what CUDA versions are installed\n",
        "! nvcc -V"
      ],
      "metadata": {
        "id": "6VRkog4kFDxi"
      },
      "execution_count": null,
      "outputs": []
    },
    {
      "cell_type": "code",
      "source": [
        "# same for CUDNN\n",
        "!cat /usr/include/x86_64-linux-gnu/cudnn_v*.h | grep CUDNN_MAJOR -A 2\n"
      ],
      "metadata": {
        "id": "KFt7exl7y1_Q"
      },
      "execution_count": null,
      "outputs": []
    },
    {
      "cell_type": "code",
      "source": [
        "%shell echo $PATH"
      ],
      "metadata": {
        "id": "ObrzzTIU7T_h"
      },
      "execution_count": null,
      "outputs": []
    },
    {
      "cell_type": "code",
      "source": [
        "%shell which python"
      ],
      "metadata": {
        "id": "nX_YfLwE6NnQ"
      },
      "execution_count": null,
      "outputs": []
    },
    {
      "cell_type": "code",
      "source": [
        "%shell which pip3"
      ],
      "metadata": {
        "id": "Tr_u_LYs6Ncw"
      },
      "execution_count": null,
      "outputs": []
    }
  ],
  "metadata": {
    "accelerator": "GPU",
    "colab": {
      "provenance": [],
      "machine_shape": "hm",
      "gpuType": "V100",
      "include_colab_link": true
    },
    "kernelspec": {
      "display_name": "Python 3",
      "name": "python3"
    },
    "language_info": {
      "name": "python"
    }
  },
  "nbformat": 4,
  "nbformat_minor": 0
}